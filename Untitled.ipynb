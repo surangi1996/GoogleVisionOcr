{
 "cells": [
  {
   "cell_type": "code",
   "execution_count": 1,
   "id": "7856da87",
   "metadata": {},
   "outputs": [],
   "source": [
    "import pytesseract"
   ]
  },
  {
   "cell_type": "code",
   "execution_count": 37,
   "id": "769a4932",
   "metadata": {},
   "outputs": [],
   "source": [
    "from PIL import Image, ImageEnhance, ImageFilter, ImageOps"
   ]
  },
  {
   "cell_type": "markdown",
   "id": "d62db9a1",
   "metadata": {},
   "source": [
    "# Preprocess image"
   ]
  },
  {
   "cell_type": "code",
   "execution_count": 38,
   "id": "2509502a",
   "metadata": {},
   "outputs": [],
   "source": [
    "# def preprocess_image(image_path):\n",
    "#     image = Image.open(image_path)\n",
    "    \n",
    "#     # Convert to grayscale\n",
    "#     image = image.convert('L')\n",
    "    \n",
    "#     # Apply a mild Gaussian blur to reduce noise\n",
    "#     image = image.filter(ImageFilter.GaussianBlur(1))\n",
    "    \n",
    "#     # Adjust brightness and contrast\n",
    "#     enhancer = ImageEnhance.Brightness(image)\n",
    "#     image = enhancer.enhance(1.5)\n",
    "#     enhancer = ImageEnhance.Contrast(image)\n",
    "#     image = enhancer.enhance(2.0)\n",
    "    \n",
    "#     # Binarize image using an adaptive threshold\n",
    "#     image = image.point(lambda x: 0 if x < 128 else 255, '1')\n",
    "#     display(image)\n",
    "#     return image\n",
    "\n",
    "\n",
    "def preprocess_image(image_path):\n",
    "    # Load the image\n",
    "    image = Image.open(image_path)\n",
    "\n",
    "    # Resize the image, preserving the aspect ratio\n",
    "    image = image.resize((256, 256), Image.Resampling.LANCZOS )\n",
    "\n",
    "    # Convert the image to grayscale\n",
    "    image = image.convert(\"L\")\n",
    "\n",
    "    # Normalize the image by scaling pixel values to the range [0, 1]\n",
    "    image = ImageOps.autocontrast(image)\n",
    "\n",
    "    # Apply histogram equalization to improve contrast\n",
    "    image = ImageOps.equalize(image)\n",
    "\n",
    "    # Reduce noise using a Gaussian blur filter\n",
    "    image = image.filter(ImageFilter.GaussianBlur(radius=1))\n",
    "\n",
    "    # Apply a binary threshold to create a black and white image\n",
    "    image = image.point(lambda x: 0 if x < 128 else 255, \"1\")\n",
    "\n",
    "    return image"
   ]
  },
  {
   "cell_type": "code",
   "execution_count": 46,
   "id": "124e0205",
   "metadata": {},
   "outputs": [],
   "source": [
    "def extract_text(image_path):\n",
    "    # Preprocess image\n",
    "    image = preprocess_image(image_path)\n",
    "    \n",
    "    # Tesseract configuration\n",
    "    custom_config = r\"--psm 11 --oem 3\"\n",
    "    \n",
    "    # Extract text from image\n",
    "    text = pytesseract.image_to_string(image, config=custom_config)\n",
    "    \n",
    "    return text"
   ]
  },
  {
   "cell_type": "code",
   "execution_count": 51,
   "id": "a9bd04ec",
   "metadata": {},
   "outputs": [
    {
     "name": "stdout",
     "output_type": "stream",
     "text": [
      "CRICKET\n",
      "\n",
      "aM\n",
      "\n",
      "@ =\n",
      "\n",
      "Oe\n",
      "\n",
      "ee\n",
      "\n",
      "3:00\n",
      "\n",
      "woete cur\n",
      "\n",
      "JULY 10\n",
      "\n",
      "iy\n",
      "\n",
      "It\n",
      "\n",
      "“ll sos\n",
      "\n"
     ]
    }
   ],
   "source": [
    "# Example usage\n",
    "image_path = \"C:\\\\Users\\\\Acer\\\\Downloads\\\\fyp\\\\image.jpg\"\n",
    "preprocessed_image = preprocess_image(image_path)\n",
    "preprocessed_image.show()\n",
    "text = extract_text(image_path)\n",
    "print(text)"
   ]
  },
  {
   "cell_type": "code",
   "execution_count": null,
   "id": "c953b420",
   "metadata": {},
   "outputs": [],
   "source": []
  }
 ],
 "metadata": {
  "kernelspec": {
   "display_name": "Python 3 (ipykernel)",
   "language": "python",
   "name": "python3"
  },
  "language_info": {
   "codemirror_mode": {
    "name": "ipython",
    "version": 3
   },
   "file_extension": ".py",
   "mimetype": "text/x-python",
   "name": "python",
   "nbconvert_exporter": "python",
   "pygments_lexer": "ipython3",
   "version": "3.10.6"
  }
 },
 "nbformat": 4,
 "nbformat_minor": 5
}
